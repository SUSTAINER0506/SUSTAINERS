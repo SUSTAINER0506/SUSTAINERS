{
 "cells": [
  {
   "cell_type": "code",
   "execution_count": 1,
   "id": "75e30918",
   "metadata": {},
   "outputs": [],
   "source": [
    "import requests\n",
    "import pandas as pd\n",
    "import time\n",
    "from datetime import datetime\n",
    "import os"
   ]
  },
  {
   "cell_type": "code",
   "execution_count": null,
   "id": "9867f788",
   "metadata": {},
   "outputs": [
    {
     "name": "stdout",
     "output_type": "stream",
     "text": [
      "   Temperature  Humidity                   Timestamp\n",
      "0         18.1      68.0  2024-09-16 18:56:42.845981\n",
      "No alerts generated.\n"
     ]
    }
   ],
   "source": [
    "# Function to apply limits to temperature values\n",
    "def apply_limits(temp_value, lower_limit, upper_limit):\n",
    "    try:\n",
    "        if temp_value < lower_limit:\n",
    "            return \"Opps low\"\n",
    "        elif temp_value > upper_limit:\n",
    "            return \"Opps high\"\n",
    "        return temp_value\n",
    "    except Exception as e:\n",
    "        print(f\"Error applying limits: {e}\")\n",
    "        return temp_value  # Return original value in case of error\n",
    "\n",
    "# Define limits\n",
    "lower_limit = 15  # Lower temperature limit\n",
    "upper_limit = 25  # Upper temperature limit\n",
    "\n",
    "# Check if the source file exists before entering the loop\n",
    "if not os.path.exists('blynk_data.csv'):\n",
    "    raise FileNotFoundError(\"The file blynk_data.csv does not exist!\")\n",
    "\n",
    "# Loop to simulate handling dynamically updated data\n",
    "while True:\n",
    "    try:\n",
    "        # Load dynamically changing CSV data into pandas DataFrame\n",
    "        df = pd.read_csv('blynk_data.csv')\n",
    "        print(df)\n",
    "\n",
    "        # Check if necessary columns are present in the data\n",
    "        if 'Temperature' not in df.columns or 'Timestamp' not in df.columns:\n",
    "            print(f\"Available columns: {df.columns}\")\n",
    "            raise ValueError(\"Missing required columns: 'Temperature' or 'Timestamp'\")\n",
    "\n",
    "        # Apply limiting function to temperature column\n",
    "        df['Temperature'] = df['Temperature'].apply(lambda x: apply_limits(x, lower_limit, upper_limit))\n",
    "\n",
    "        # Write the updated DataFrame back to the same CSV file\n",
    "        csv_file_path = \"E:/Aditi/Programming/demo.csv\"\n",
    "\n",
    "        try:\n",
    "            df.to_csv(csv_file_path, index=False)  # Save DataFrame to CSV\n",
    "        except PermissionError:\n",
    "            print(f\"Permission denied: Unable to write to {csv_file_path}. Please close the file if it is open.\")\n",
    "            continue  # Skip to the next iteration if the file is open or locked\n",
    "        except Exception as e:\n",
    "            print(f\"Error writing to CSV file: {e}\")\n",
    "            continue  # Skip to the next iteration on error\n",
    "\n",
    "        # Reload the updated data to check for alerts\n",
    "        try:\n",
    "            df_reloaded = pd.read_csv(csv_file_path)\n",
    "        except FileNotFoundError:\n",
    "            print(f\"File {csv_file_path} not found. Skipping this iteration.\")\n",
    "            continue\n",
    "        except Exception as e:\n",
    "            print(f\"Error reading the CSV file: {e}\")\n",
    "            continue\n",
    "\n",
    "        # Check for any \"Opps high\" alerts in the data\n",
    "        alert_rows = df_reloaded[df_reloaded['Temperature'] == 'Opps high']\n",
    "        if not alert_rows.empty:\n",
    "            for index, row in alert_rows.iterrows():\n",
    "                # Print the specific timestamp of the alert row\n",
    "                print(f\"Alert system provoked at {row['Timestamp']}\")\n",
    "        else:\n",
    "            print(\"No alerts generated.\")\n",
    "\n",
    "    except FileNotFoundError as e:\n",
    "        print(f\"File not found: {e}\")\n",
    "    except ValueError as e:\n",
    "        print(f\"Data format error: {e}\")\n",
    "    except Exception as e:\n",
    "        print(f\"An unexpected error occurred: {e}\")\n",
    "\n",
    "    # Sleep or wait before checking again (adjust time as per your needs)\n",
    "    time.sleep(60)  # Wait for 60 seconds before the next iteration\n"
   ]
  },
  {
   "cell_type": "code",
   "execution_count": null,
   "id": "0e87ea1b",
   "metadata": {},
   "outputs": [],
   "source": []
  }
 ],
 "metadata": {
  "kernelspec": {
   "display_name": "Python 3 (ipykernel)",
   "language": "python",
   "name": "python3"
  },
  "language_info": {
   "codemirror_mode": {
    "name": "ipython",
    "version": 3
   },
   "file_extension": ".py",
   "mimetype": "text/x-python",
   "name": "python",
   "nbconvert_exporter": "python",
   "pygments_lexer": "ipython3",
   "version": "3.9.12"
  }
 },
 "nbformat": 4,
 "nbformat_minor": 5
}
