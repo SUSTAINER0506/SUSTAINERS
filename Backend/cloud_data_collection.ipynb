{
 "cells": [
  {
   "cell_type": "code",
   "execution_count": 1,
   "id": "250d9b64",
   "metadata": {},
   "outputs": [],
   "source": [
    "import requests\n",
    "import pandas as pd\n",
    "import time\n",
    "from datetime import datetime\n",
    "import os"
   ]
  },
  {
   "cell_type": "code",
   "execution_count": null,
   "id": "5179e218",
   "metadata": {
    "scrolled": true
   },
   "outputs": [
    {
     "name": "stdout",
     "output_type": "stream",
     "text": [
      "Temperature: 18.10°C, Humidity: 68.00%, TimeStamp: 2024-09-16 18:20:44.674917\n",
      "Temperature: 18.10°C, Humidity: 68.00%, TimeStamp: 2024-09-16 18:21:44.988353\n",
      "Temperature: 18.10°C, Humidity: 68.00%, TimeStamp: 2024-09-16 18:22:45.305666\n",
      "Temperature: 18.10°C, Humidity: 68.00%, TimeStamp: 2024-09-16 18:23:46.248149\n",
      "Temperature: 18.10°C, Humidity: 68.00%, TimeStamp: 2024-09-16 18:24:46.555217\n",
      "Temperature: 18.10°C, Humidity: 68.00%, TimeStamp: 2024-09-16 18:25:46.878513\n",
      "Temperature: 18.10°C, Humidity: 68.00%, TimeStamp: 2024-09-16 18:26:47.193583\n",
      "Temperature: 18.10°C, Humidity: 68.00%, TimeStamp: 2024-09-16 18:27:47.505268\n",
      "Temperature: 18.10°C, Humidity: 68.00%, TimeStamp: 2024-09-16 18:28:47.818097\n",
      "Temperature: 18.10°C, Humidity: 68.00%, TimeStamp: 2024-09-16 18:29:48.155792\n"
     ]
    }
   ],
   "source": [
    "# Blynk URL with your Auth Token\n",
    "BLYNK_URL = \"https://blynk.cloud/external/api/getAll?token=s9U0_LZeaRR5326TyzsoscWbOosaDgS-\"\n",
    "\n",
    "# Function to get data from Blynk for a specific virtual pin\n",
    "def get_blynk_data(pin):\n",
    "    try:\n",
    "        response = requests.get(BLYNK_URL)\n",
    "        if response.status_code == 200:\n",
    "            data = response.json()\n",
    "            if pin in data:\n",
    "                return float(data[pin])  # Extract the value and convert to float\n",
    "        else:\n",
    "            print(f\"HTTP Error {response.status_code} for pin {pin}\")\n",
    "    except requests.RequestException as e:\n",
    "        print(\"Request Error:\", e)\n",
    "    return None\n",
    "\n",
    "# Path to the CSV file\n",
    "csv_file_path = \"blynk_data.csv\"\n",
    "\n",
    "# Check if the file exists to decide whether to write headers or not\n",
    "write_header = not os.path.exists(csv_file_path)\n",
    "\n",
    "# Infinite loop to continuously collect data\n",
    "while True:\n",
    "    # Collect data from Blynk\n",
    "    temperature = get_blynk_data(\"v0\")  # Fetch temperature from virtual pin v0\n",
    "    humidity = get_blynk_data(\"v1\")     # Fetch humidity from virtual pin v1\n",
    "\n",
    "    if temperature is not None and humidity is not None:\n",
    "        timestamp = datetime.now()\n",
    "        data = {\"Temperature\": temperature, \"Humidity\": humidity, \"Timestamp\": timestamp}\n",
    "        print(f\"Temperature: {temperature:.2f}°C, Humidity: {humidity:.2f}%, TimeStamp: {timestamp}\")\n",
    "\n",
    "        # Convert the collected data into a DataFrame with one row\n",
    "        df = pd.DataFrame([data])\n",
    "\n",
    "        # Append the data to the CSV file, writing headers only if the file is being created\n",
    "        df.to_csv(csv_file_path, mode='a', index=False, header=write_header)\n",
    "\n",
    "        # Once headers are written, we don't need to write them again in future iterations\n",
    "        write_header = False\n",
    "    else:\n",
    "        print(\"Failed to retrieve data\")\n",
    "\n",
    "    # Wait 2 seconds before collecting the next data point\n",
    "    time.sleep(60)"
   ]
  },
  {
   "cell_type": "code",
   "execution_count": null,
   "id": "4e101f92",
   "metadata": {},
   "outputs": [],
   "source": []
  }
 ],
 "metadata": {
  "kernelspec": {
   "display_name": "Python 3 (ipykernel)",
   "language": "python",
   "name": "python3"
  },
  "language_info": {
   "codemirror_mode": {
    "name": "ipython",
    "version": 3
   },
   "file_extension": ".py",
   "mimetype": "text/x-python",
   "name": "python",
   "nbconvert_exporter": "python",
   "pygments_lexer": "ipython3",
   "version": "3.9.12"
  }
 },
 "nbformat": 4,
 "nbformat_minor": 5
}
